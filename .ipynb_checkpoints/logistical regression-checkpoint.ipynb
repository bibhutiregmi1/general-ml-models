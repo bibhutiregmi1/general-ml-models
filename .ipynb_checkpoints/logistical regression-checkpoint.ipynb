{
 "cells": [
  {
   "cell_type": "markdown",
   "metadata": {},
   "source": [
    "# Logistic Regression- Classification problem with synthetic data"
   ]
  },
  {
   "cell_type": "code",
   "execution_count": 34,
   "metadata": {},
   "outputs": [],
   "source": [
    "#import the libraries\n",
    "import numpy as np\n",
    "import matplotlib.pyplot as plt"
   ]
  },
  {
   "cell_type": "markdown",
   "metadata": {},
   "source": [
    "### Assigning mean,no of samples, and dataset"
   ]
  },
  {
   "cell_type": "code",
   "execution_count": 35,
   "metadata": {},
   "outputs": [],
   "source": [
    "mu1 = [4,2]\n",
    "mu2 = [2,4]\n",
    "m1=100\n",
    "m2=100\n",
    "cov = np.identity(2)\n",
    "X1 = np.random.multivariate_normal(mu1, cov, m1)\n",
    "X2 = np.random.multivariate_normal(mu2, cov, m2)"
   ]
  },
  {
   "cell_type": "code",
   "execution_count": 36,
   "metadata": {},
   "outputs": [
    {
     "data": {
      "image/png": "[encoded data removed]",
      "text/plain": [
       "<Figure size 432x288 with 1 Axes>"
      ]
     },
     "metadata": {
      "needs_background": "light"
     },
     "output_type": "display_data"
    }
   ],
   "source": [
    "plt.plot(X1[:,0],X1[:,1],'b.',label='class1')\n",
    "plt.plot(X2[:,0],X2[:,1],'r.',label='class2')\n",
    "plt.xlabel('x')\n",
    "plt.ylabel('y')\n",
    "plt.legend()\n",
    "plt.title('classification problem')\n",
    "plt.show()"
   ]
  },
  {
   "cell_type": "code",
   "execution_count": null,
   "metadata": {},
   "outputs": [],
   "source": []
  },
  {
   "cell_type": "code",
   "execution_count": 37,
   "metadata": {},
   "outputs": [
    {
     "data": {
      "text/plain": [
       "(100, 2)"
      ]
     },
     "execution_count": 37,
     "metadata": {},
     "output_type": "execute_result"
    }
   ],
   "source": [
    "X1.shape"
   ]
  },
  {
   "cell_type": "markdown",
   "metadata": {},
   "source": [
    "### Plotting the classification dataset"
   ]
  },
  {
   "cell_type": "code",
   "execution_count": 38,
   "metadata": {},
   "outputs": [
    {
     "data": {
      "image/png": "[encoded data removed]",
      "text/plain": [
       "<Figure size 432x288 with 1 Axes>"
      ]
     },
     "metadata": {
      "needs_background": "light"
     },
     "output_type": "display_data"
    }
   ],
   "source": [
    "plt.plot(X1[:,0],X1[:,1],'b.',label='class1')\n",
    "plt.plot(X2[:,0],X2[:,1],'r.',label='class2')\n",
    "plt.xlabel('x')\n",
    "plt.ylabel('y')\n",
    "plt.legend()\n",
    "plt.title('classification problem')\n",
    "plt.show()"
   ]
  },
  {
   "cell_type": "markdown",
   "metadata": {},
   "source": [
    "### Writing the required functions"
   ]
  },
  {
   "cell_type": "code",
   "execution_count": 39,
   "metadata": {},
   "outputs": [
    {
     "name": "stdout",
     "output_type": "stream",
     "text": [
      "(3, 1)\n"
     ]
    }
   ],
   "source": [
    "def sigmoid(theta,X):\n",
    "    return (1/(1+np.exp(-theta.T*X)))\n",
    "\n",
    "def loglike(theta,X,y):\n",
    "    h = sigmoid(theta,X)\n",
    "    return np.sum(np.multiply(y,np.log(h))+np.multiply((1-y),np.log(1-h)))\n",
    "\n",
    "def h(theta,X):\n",
    "    return sigmoid(theta,X)\n",
    "\n",
    "m=m1+m2\n",
    "\n",
    "X= np.concatenate([X1,X2],0)\n",
    "X = np.concatenate([np.ones([m,1]),X],1).T\n",
    "theta = np.matrix([0.1,0.1,0.1]).T\n",
    "print(theta.shape)\n",
    "y = np.concatenate([np.zeros([m1,1]), np.ones([m2,1])],0)\n",
    "x_concatenated = np.matrix(X)\n",
    "y_mat = np.matrix(y)"
   ]
  },
  {
   "cell_type": "code",
   "execution_count": 40,
   "metadata": {},
   "outputs": [
    {
     "name": "stdout",
     "output_type": "stream",
     "text": [
      "-149.304293293018\n"
     ]
    }
   ],
   "source": [
    "alpha =0.00001\n",
    "\n",
    "def gradient(theta,X,y):\n",
    "    return (-h(theta,X)+y.T).dot(X.T)\n",
    "\n",
    "def gradient_ascent_1(alpha,theta,X,y):\n",
    "    j_iter=[]\n",
    "    theta_iter = [[],[]]\n",
    "    go = 1\n",
    "    i = 1\n",
    "    j_iter.append(loglike(theta,X,y.T))\n",
    "    print(j_iter[0])\n",
    "    while go:\n",
    "        theta = theta + alpha *(gradient(theta,X,y).T)\n",
    "        j_iter.append(loglike(theta,X,y.T))\n",
    "        if abs(j_iter[i]-j_iter[i-1])<0.0001:\n",
    "            go = 0\n",
    "        else:\n",
    "            go = 1\n",
    "            i=i+1\n",
    "        theta_iter = np.append(theta_iter, theta)\n",
    "    return theta,j_iter,theta_iter,i\n",
    "\n",
    "\n",
    "theta_opt,j_iter,theta_iter,counter = gradient_ascent_1(alpha,theta,x_concatenated,y_mat)"
   ]
  },
  {
   "cell_type": "code",
   "execution_count": null,
   "metadata": {},
   "outputs": [],
   "source": []
  },
  {
   "cell_type": "code",
   "execution_count": 41,
   "metadata": {},
   "outputs": [
    {
     "data": {
      "text/plain": [
       "matrix([[0.1],\n",
       "        [0.1],\n",
       "        [0.1]])"
      ]
     },
     "execution_count": 41,
     "metadata": {},
     "output_type": "execute_result"
    }
   ],
   "source": [
    "theta"
   ]
  },
  {
   "cell_type": "markdown",
   "metadata": {},
   "source": [
    "## Plotting the loglikelihood function"
   ]
  },
  {
   "cell_type": "code",
   "execution_count": 42,
   "metadata": {},
   "outputs": [
    {
     "data": {
      "image/png": "[encoded data removed]",
      "text/plain": [
       "<Figure size 432x288 with 1 Axes>"
      ]
     },
     "metadata": {
      "needs_background": "light"
     },
     "output_type": "display_data"
    }
   ],
   "source": [
    "j_iter1=np.array([j_iter])\n",
    "plt.plot(abs(j_iter1).T)\n",
    "plt.xlabel('no. of iteration')\n",
    "plt.ylabel('loglikelihood function')\n",
    "plt.show()"
   ]
  },
  {
   "cell_type": "markdown",
   "metadata": {},
   "source": [
    "## printing the no. of iteration where it converges"
   ]
  },
  {
   "cell_type": "code",
   "execution_count": 43,
   "metadata": {},
   "outputs": [
    {
     "name": "stdout",
     "output_type": "stream",
     "text": [
      "optimal iteration no 18666\n",
      "converging likelihood -35.14475108839983\n"
     ]
    }
   ],
   "source": [
    "print('optimal iteration no',counter)\n",
    "print('converging likelihood',j_iter[-1])"
   ]
  },
  {
   "cell_type": "code",
   "execution_count": 44,
   "metadata": {},
   "outputs": [
    {
     "name": "stdout",
     "output_type": "stream",
     "text": [
      "theta optimal [[-0.13061102 -1.8036754   1.85948422]]\n"
     ]
    }
   ],
   "source": [
    "print('theta optimal',theta_opt.T)"
   ]
  },
  {
   "cell_type": "code",
   "execution_count": 45,
   "metadata": {},
   "outputs": [
    {
     "name": "stdout",
     "output_type": "stream",
     "text": [
      "1.0089247704500406\n"
     ]
    }
   ],
   "source": [
    "## checking minimum value of one feature\n",
    "print(min(X1[:,0]))"
   ]
  },
  {
   "cell_type": "code",
   "execution_count": 46,
   "metadata": {},
   "outputs": [
    {
     "name": "stdout",
     "output_type": "stream",
     "text": [
      "[[-0.99107523  5.96237092]]\n",
      "[[-0.89108958  5.85366238]]\n"
     ]
    }
   ],
   "source": [
    "# to make the boundary line start from 0\n",
    "plot_x = np.array([min(X1[:,0]-2), max(X1[:,0])])\n",
    "plot_x = np.matrix(plot_x)\n",
    "print(plot_x)\n",
    "plot_y = (-1/theta_opt[2]) * (theta_opt[1] * plot_x + theta_opt[0])\n",
    "print(plot_y)"
   ]
  },
  {
   "cell_type": "code",
   "execution_count": 47,
   "metadata": {},
   "outputs": [],
   "source": [
    "plot_y_prev = (-1/theta[2]) * (theta[1] * plot_x + theta[0])"
   ]
  },
  {
   "cell_type": "code",
   "execution_count": 48,
   "metadata": {},
   "outputs": [
    {
     "data": {
      "image/png": "[encoded data removed]",
      "text/plain": [
       "<Figure size 1440x360 with 2 Axes>"
      ]
     },
     "metadata": {
      "needs_background": "light"
     },
     "output_type": "display_data"
    }
   ],
   "source": [
    "fig,ax = plt.subplots(1,2)\n",
    "fig.set_figheight(5)\n",
    "fig.set_figwidth(20)\n",
    "plt2 = plt.subplot(1,2,1)\n",
    "plt1 = plt.subplot(1,2,2)\n",
    "\n",
    "plt1.plot(plot_x.T, plot_y.T, label = \"Decision_Boundary\")\n",
    "plt1.plot(X1[:,0],X1[:,1],'b.',label='class1')\n",
    "plt1.plot(X2[:,0],X2[:,1],'r.',label='class2')\n",
    "plt1.set_title('for optimized theta')\n",
    "plt1.legend()\n",
    "\n",
    "plt2.plot(plot_x.T, plot_y_prev.T, label = \"Decision_Boundary\")\n",
    "plt2.plot(X1[:,0],X1[:,1],'b.',label='class1')\n",
    "plt2.plot(X2[:,0],X2[:,1],'r.',label='class2')\n",
    "plt2.set_title('for initial theta')\n",
    "plt2.legend()\n",
    "\n",
    "plt.show()"
   ]
  },
  {
   "cell_type": "markdown",
   "metadata": {},
   "source": [
    "## Calculation of Accuracy"
   ]
  },
  {
   "cell_type": "code",
   "execution_count": 49,
   "metadata": {},
   "outputs": [],
   "source": [
    "X_mean=np.array([np.mean(X,axis=1)])\n",
    "X_std=np.array([np.std(X,axis=1)])"
   ]
  },
  {
   "cell_type": "code",
   "execution_count": 50,
   "metadata": {},
   "outputs": [
    {
     "name": "stdout",
     "output_type": "stream",
     "text": [
      " \n",
      "Theta= [[0.1 0.1 0.1]]\n",
      "Accuracy with non optimized Theta: 50.0 %\n",
      " \n",
      "Theta= [[-0.13061102 -1.8036754   1.85948422]]\n",
      "Accuracy with optimized Theta: 91.5 %\n"
     ]
    }
   ],
   "source": [
    "def sigmoid(z):\n",
    "    return 1/ (1 + np.exp(-z))\n",
    "\n",
    "def classifierPredict(theta,X):    \n",
    "    predictions = sigmoid(X.dot(theta))    \n",
    "    return predictions>0.5\n",
    "\n",
    "def accuracy(X,theta):\n",
    "    print(' ')\n",
    "    print('Theta=',theta.T)\n",
    "    size=X.shape[0]\n",
    "    p=classifierPredict(theta,X)\n",
    "    return (sum(p==y)/size*100)[0,0]\n",
    "\n",
    "print(\"Accuracy with non optimized Theta:\",accuracy(X.T,theta),'%',)\n",
    "print(\"Accuracy with optimized Theta:\",accuracy(X.T,theta_opt),'%')"
   ]
  },
  {
   "cell_type": "code",
   "execution_count": 51,
   "metadata": {},
   "outputs": [
    {
     "data": {
      "text/plain": [
       "(200, 1)"
      ]
     },
     "execution_count": 51,
     "metadata": {},
     "output_type": "execute_result"
    }
   ],
   "source": [
    "y_mat.shape"
   ]
  },
  {
   "cell_type": "code",
   "execution_count": null,
   "metadata": {},
   "outputs": [],
   "source": []
  }
 ],
 "metadata": {
  "kernelspec": {
   "display_name": "Python 3",
   "language": "python",
   "name": "python3"
  },
  "language_info": {
   "codemirror_mode": {
    "name": "ipython",
    "version": 3
   },
   "file_extension": ".py",
   "mimetype": "text/x-python",
   "name": "python",
   "nbconvert_exporter": "python",
   "pygments_lexer": "ipython3",
   "version": "3.6.8"
  }
 },
 "nbformat": 4,
 "nbformat_minor": 2
}
