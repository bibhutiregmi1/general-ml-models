{
 "cells": [
  {
   "cell_type": "code",
   "execution_count": 1,
   "metadata": {},
   "outputs": [],
   "source": [
    "import numpy as np\n",
    "import matplotlib.pyplot as plt"
   ]
  },
  {
   "cell_type": "code",
   "execution_count": 2,
   "metadata": {},
   "outputs": [],
   "source": [
    "X = np.random.normal(100,40,100)\n",
    "theta0 = 1\n",
    "theta1 = 2\n",
    "theta2 = 3\n",
    "y =(theta0+theta1*X)+np.random.normal(0,35,100)\n",
    "m=len(X)\n",
    "\n",
    "X_mat = np.matrix(X).T"
   ]
  },
  {
   "cell_type": "code",
   "execution_count": 3,
   "metadata": {},
   "outputs": [],
   "source": [
    "X_con = np.concatenate([np.ones([m,1]),X_mat,X_mat],1)"
   ]
  },
  {
   "cell_type": "code",
   "execution_count": 4,
   "metadata": {},
   "outputs": [],
   "source": [
    "y_mat = np.matrix(y).T"
   ]
  },
  {
   "cell_type": "code",
   "execution_count": 5,
   "metadata": {},
   "outputs": [
    {
     "ename": "LinAlgError",
     "evalue": "Singular matrix",
     "output_type": "error",
     "traceback": [
      "\u001b[0;31m---------------------------------------------------------------------------\u001b[0m",
      "\u001b[0;31mLinAlgError\u001b[0m                               Traceback (most recent call last)",
      "\u001b[0;32m<ipython-input-5-9ab87ec2dc0e>\u001b[0m in \u001b[0;36m<module>\u001b[0;34m\u001b[0m\n\u001b[0;32m----> 1\u001b[0;31m \u001b[0mtheta_opt\u001b[0m \u001b[0;34m=\u001b[0m \u001b[0mnp\u001b[0m\u001b[0;34m.\u001b[0m\u001b[0mlinalg\u001b[0m\u001b[0;34m.\u001b[0m\u001b[0minv\u001b[0m\u001b[0;34m(\u001b[0m\u001b[0mX_con\u001b[0m\u001b[0;34m.\u001b[0m\u001b[0mT\u001b[0m\u001b[0;34m*\u001b[0m\u001b[0mX_con\u001b[0m\u001b[0;34m)\u001b[0m\u001b[0;34m*\u001b[0m\u001b[0;34m(\u001b[0m\u001b[0mX_con\u001b[0m\u001b[0;34m.\u001b[0m\u001b[0mT\u001b[0m\u001b[0;34m*\u001b[0m\u001b[0my_mat\u001b[0m\u001b[0;34m)\u001b[0m\u001b[0;34m\u001b[0m\u001b[0;34m\u001b[0m\u001b[0m\n\u001b[0m",
      "\u001b[0;32m<__array_function__ internals>\u001b[0m in \u001b[0;36minv\u001b[0;34m(*args, **kwargs)\u001b[0m\n",
      "\u001b[0;32m~/.local/lib/python3.6/site-packages/numpy/linalg/linalg.py\u001b[0m in \u001b[0;36minv\u001b[0;34m(a)\u001b[0m\n\u001b[1;32m    549\u001b[0m     \u001b[0msignature\u001b[0m \u001b[0;34m=\u001b[0m \u001b[0;34m'D->D'\u001b[0m \u001b[0;32mif\u001b[0m \u001b[0misComplexType\u001b[0m\u001b[0;34m(\u001b[0m\u001b[0mt\u001b[0m\u001b[0;34m)\u001b[0m \u001b[0;32melse\u001b[0m \u001b[0;34m'd->d'\u001b[0m\u001b[0;34m\u001b[0m\u001b[0;34m\u001b[0m\u001b[0m\n\u001b[1;32m    550\u001b[0m     \u001b[0mextobj\u001b[0m \u001b[0;34m=\u001b[0m \u001b[0mget_linalg_error_extobj\u001b[0m\u001b[0;34m(\u001b[0m\u001b[0m_raise_linalgerror_singular\u001b[0m\u001b[0;34m)\u001b[0m\u001b[0;34m\u001b[0m\u001b[0;34m\u001b[0m\u001b[0m\n\u001b[0;32m--> 551\u001b[0;31m     \u001b[0mainv\u001b[0m \u001b[0;34m=\u001b[0m \u001b[0m_umath_linalg\u001b[0m\u001b[0;34m.\u001b[0m\u001b[0minv\u001b[0m\u001b[0;34m(\u001b[0m\u001b[0ma\u001b[0m\u001b[0;34m,\u001b[0m \u001b[0msignature\u001b[0m\u001b[0;34m=\u001b[0m\u001b[0msignature\u001b[0m\u001b[0;34m,\u001b[0m \u001b[0mextobj\u001b[0m\u001b[0;34m=\u001b[0m\u001b[0mextobj\u001b[0m\u001b[0;34m)\u001b[0m\u001b[0;34m\u001b[0m\u001b[0;34m\u001b[0m\u001b[0m\n\u001b[0m\u001b[1;32m    552\u001b[0m     \u001b[0;32mreturn\u001b[0m \u001b[0mwrap\u001b[0m\u001b[0;34m(\u001b[0m\u001b[0mainv\u001b[0m\u001b[0;34m.\u001b[0m\u001b[0mastype\u001b[0m\u001b[0;34m(\u001b[0m\u001b[0mresult_t\u001b[0m\u001b[0;34m,\u001b[0m \u001b[0mcopy\u001b[0m\u001b[0;34m=\u001b[0m\u001b[0;32mFalse\u001b[0m\u001b[0;34m)\u001b[0m\u001b[0;34m)\u001b[0m\u001b[0;34m\u001b[0m\u001b[0;34m\u001b[0m\u001b[0m\n\u001b[1;32m    553\u001b[0m \u001b[0;34m\u001b[0m\u001b[0m\n",
      "\u001b[0;32m~/.local/lib/python3.6/site-packages/numpy/linalg/linalg.py\u001b[0m in \u001b[0;36m_raise_linalgerror_singular\u001b[0;34m(err, flag)\u001b[0m\n\u001b[1;32m     95\u001b[0m \u001b[0;34m\u001b[0m\u001b[0m\n\u001b[1;32m     96\u001b[0m \u001b[0;32mdef\u001b[0m \u001b[0m_raise_linalgerror_singular\u001b[0m\u001b[0;34m(\u001b[0m\u001b[0merr\u001b[0m\u001b[0;34m,\u001b[0m \u001b[0mflag\u001b[0m\u001b[0;34m)\u001b[0m\u001b[0;34m:\u001b[0m\u001b[0;34m\u001b[0m\u001b[0;34m\u001b[0m\u001b[0m\n\u001b[0;32m---> 97\u001b[0;31m     \u001b[0;32mraise\u001b[0m \u001b[0mLinAlgError\u001b[0m\u001b[0;34m(\u001b[0m\u001b[0;34m\"Singular matrix\"\u001b[0m\u001b[0;34m)\u001b[0m\u001b[0;34m\u001b[0m\u001b[0;34m\u001b[0m\u001b[0m\n\u001b[0m\u001b[1;32m     98\u001b[0m \u001b[0;34m\u001b[0m\u001b[0m\n\u001b[1;32m     99\u001b[0m \u001b[0;32mdef\u001b[0m \u001b[0m_raise_linalgerror_nonposdef\u001b[0m\u001b[0;34m(\u001b[0m\u001b[0merr\u001b[0m\u001b[0;34m,\u001b[0m \u001b[0mflag\u001b[0m\u001b[0;34m)\u001b[0m\u001b[0;34m:\u001b[0m\u001b[0;34m\u001b[0m\u001b[0;34m\u001b[0m\u001b[0m\n",
      "\u001b[0;31mLinAlgError\u001b[0m: Singular matrix"
     ]
    }
   ],
   "source": [
    "theta_opt = np.linalg.inv(X_con.T*X_con)*(X_con.T*y_mat)"
   ]
  },
  {
   "cell_type": "code",
   "execution_count": null,
   "metadata": {},
   "outputs": [],
   "source": [
    "theta_opt"
   ]
  },
  {
   "cell_type": "code",
   "execution_count": null,
   "metadata": {},
   "outputs": [],
   "source": [
    "plt.plot(X,y,'b.')"
   ]
  },
  {
   "cell_type": "code",
   "execution_count": null,
   "metadata": {},
   "outputs": [],
   "source": [
    "# theta = np.array([[3],[1]])\n",
    "alpha=0.00001\n",
    "def h(x,theta):\n",
    "    return np.dot(x,theta)\n",
    "\n",
    "def optimal_theta(X,y):    \n",
    "    return np.dot(np.linalg.inv(np.dot(X.T, X)), np.dot(X.T, y))\n",
    "\n",
    "def cost_function(X, y, theta):\n",
    "    hypothesis = hypothesis_function(X,theta.T)\n",
    "    return (1/(2*100)) * np.dot((hypothesis-y).T, (hypothesis-y))\n",
    "\n",
    "theta_optimal = optimal_theta(X_con,y_mat)\n",
    "print(theta_optimal)\n",
    "y_analytical = h(X_con, theta_optimal)\n",
    "\n",
    "def cost_function(X, y, theta):\n",
    "    hypothesis = h(X,theta.T)\n",
    "    return (1/(2*100)) * np.dot((hypothesis-y).T, (hypothesis-y))\n",
    "\n",
    "def stochastic(X,y,theta,alpha, iteration):\n",
    "    m = len(y)\n",
    "    cost_history = np.zeros(iteration)\n",
    "    for i in range(iteration):\n",
    "        cost = 0.0\n",
    "        for j in range(m):\n",
    "            rand_index = np.random.randint(0,m)\n",
    "            x = X[rand_index,:].reshape(1,X.shape[1])\n",
    "            yi = y[rand_index,:].reshape(1,1)\n",
    "            hypothesis = np.dot(x,theta)\n",
    "#             print((hypothesis - yi).shape,x.shape,(np.dot(x.T,(hypothesis - yi)).shape))\n",
    "            theta = theta + alpha * (np.dot(x.T,(-hypothesis + yi)))\n",
    "            cost += cost_function(x,yi,theta.T)\n",
    "        cost_history[i] = cost\n",
    "    return theta, cost_history\n",
    "\n",
    "theta1 = np.random.randn(2,1)\n",
    "theta_sto, cost_history = stochastic(X_con,y_mat,theta1,0.00000001,150)\n",
    "\n",
    "y_sto = np.dot(X_con,theta_sto)"
   ]
  },
  {
   "cell_type": "code",
   "execution_count": null,
   "metadata": {},
   "outputs": [],
   "source": [
    "plt.plot(cost_history)"
   ]
  },
  {
   "cell_type": "code",
   "execution_count": null,
   "metadata": {},
   "outputs": [],
   "source": [
    "fig3 = plt.figure()\n",
    "ax = plt.axes()\n",
    "plt.grid(axis='both', alpha=.25)\n",
    "plt.plot(X,y,'b.')\n",
    "plt.plot(X,y_sto,'g-',label='stochastic')\n",
    "plt.plot(X,y_analytical,'c-',label='analytical')\n",
    "plt.legend()\n",
    "plt.show()"
   ]
  },
  {
   "cell_type": "code",
   "execution_count": null,
   "metadata": {},
   "outputs": [],
   "source": [
    "def gradient(X,y,theta):\n",
    "    hypothesis = h(X, theta)\n",
    "    return np.dot(X.T, (hypothesis - y))\n",
    "\n",
    "alpha = 0.00000001\n",
    "m = 50\n",
    "\n",
    "def gradient_descent(X,y,theta,alpha):\n",
    "    j_iter = np.zeros(m)\n",
    "    for i in np.arange(m):\n",
    "        theta = theta - alpha * gradient(X, y, theta)\n",
    "        hypothesis = h(X,theta)\n",
    "        j_iter[i] = cost_function(X, y, theta.T)[0][0]\n",
    "    return theta, j_iter\n",
    "\n",
    "theta_gd1, j_iter_gd1 = gradient_descent(X_con,y_mat,theta1,alpha)\n",
    "y_gd1 = np.dot(X_con,theta_gd1)"
   ]
  },
  {
   "cell_type": "code",
   "execution_count": null,
   "metadata": {},
   "outputs": [],
   "source": [
    "plt.plot(j_iter_gd1)"
   ]
  },
  {
   "cell_type": "code",
   "execution_count": null,
   "metadata": {},
   "outputs": [],
   "source": [
    "fig3 = plt.figure()\n",
    "ax = plt.axes()\n",
    "plt.grid(axis='both', alpha=.25)\n",
    "plt.plot(X,y,'b.')\n",
    "\n",
    "\n",
    "plt.plot(X,y_gd1,'r-',label='batch')\n",
    "plt.plot(X,y_analytical,'c-',label='analytical')\n",
    "plt.plot(X,y_sto,'g-',label='stochastic')\n",
    "plt.legend()\n",
    "plt.show()"
   ]
  },
  {
   "cell_type": "code",
   "execution_count": null,
   "metadata": {},
   "outputs": [],
   "source": [
    "def gradient_descent(X,y,theta,alpha):\n",
    "    j_iter=[]\n",
    "    theta_iter = [[],[]]\n",
    "    go = 1\n",
    "    i = 1\n",
    "    j_iter.append(cost_function(X,y,theta.T)[0,0])\n",
    "    while go:\n",
    "        theta = theta - alpha *(gradient(X, y, theta))\n",
    "        j_iter.append(cost_function(X, y, theta.T)[0,0])\n",
    "        if abs(j_iter[i]-j_iter[i-1])<0.00001:\n",
    "            go = 0\n",
    "        else:\n",
    "            go = 1\n",
    "            i=i+1\n",
    "        theta_iter = np.append(theta_iter, theta)\n",
    "    return theta,j_iter,i\n",
    "\n",
    "theta_gd, j_iter_gd,counter = gradient_descent(X_con,y_mat,theta1,alpha)\n",
    "y_gd = np.dot(X_con,theta_gd)"
   ]
  },
  {
   "cell_type": "code",
   "execution_count": null,
   "metadata": {},
   "outputs": [],
   "source": [
    "plt.plot(j_iter_gd)"
   ]
  },
  {
   "cell_type": "code",
   "execution_count": null,
   "metadata": {},
   "outputs": [],
   "source": [
    "theta_gd"
   ]
  },
  {
   "cell_type": "code",
   "execution_count": null,
   "metadata": {},
   "outputs": [],
   "source": [
    "fig3 = plt.figure()\n",
    "ax = plt.axes()\n",
    "plt.grid(axis='both', alpha=.25)\n",
    "plt.plot(X,y,'b.')\n",
    "\n",
    "\n",
    "plt.plot(X,y_gd1,'r-',label='batch')\n",
    "plt.plot(X,y_analytical,'c-',label='analytical')\n",
    "plt.plot(X,y_sto,'g-',label='stochastic')\n",
    "plt.plot(X,y_gd,'k-',label='batch_auto')\n",
    "\n",
    "plt.show()"
   ]
  },
  {
   "cell_type": "code",
   "execution_count": null,
   "metadata": {},
   "outputs": [],
   "source": [
    "print(theta_gd)"
   ]
  },
  {
   "cell_type": "code",
   "execution_count": null,
   "metadata": {},
   "outputs": [],
   "source": [
    "print(theta_gd1)"
   ]
  },
  {
   "cell_type": "code",
   "execution_count": null,
   "metadata": {},
   "outputs": [],
   "source": [
    "print(theta_sto)"
   ]
  },
  {
   "cell_type": "code",
   "execution_count": null,
   "metadata": {},
   "outputs": [],
   "source": [
    "print(theta_opt)"
   ]
  },
  {
   "cell_type": "code",
   "execution_count": null,
   "metadata": {},
   "outputs": [],
   "source": []
  }
 ],
 "metadata": {
  "kernelspec": {
   "display_name": "Python 3",
   "language": "python",
   "name": "python3"
  },
  "language_info": {
   "codemirror_mode": {
    "name": "ipython",
    "version": 3
   },
   "file_extension": ".py",
   "mimetype": "text/x-python",
   "name": "python",
   "nbconvert_exporter": "python",
   "pygments_lexer": "ipython3",
   "version": "3.6.8"
  }
 },
 "nbformat": 4,
 "nbformat_minor": 2
}
